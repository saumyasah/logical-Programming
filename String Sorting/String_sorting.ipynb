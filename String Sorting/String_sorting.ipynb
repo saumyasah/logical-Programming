{
 "cells": [
  {
   "cell_type": "code",
   "execution_count": 1,
   "metadata": {},
   "outputs": [
    {
     "ename": "NameError",
     "evalue": "name 'str1' is not defined",
     "output_type": "error",
     "traceback": [
      "\u001b[1;31m---------------------------------------------------------------------------\u001b[0m",
      "\u001b[1;31mNameError\u001b[0m                                 Traceback (most recent call last)",
      "\u001b[1;32md:\\Coding\\Python\\APP\\Logic Programming\\contain 001\\String_sorting.ipynb Cell 1\u001b[0m in \u001b[0;36m<cell line: 2>\u001b[1;34m()\u001b[0m\n\u001b[0;32m      <a href='vscode-notebook-cell:/d%3A/Coding/Python/APP/Logic%20Programming/contain%20001/String_sorting.ipynb#W0sZmlsZQ%3D%3D?line=0'>1</a>\u001b[0m tr1 \u001b[39m=\u001b[39m \u001b[39m\"\u001b[39m\u001b[39msdf 23 safs8 5 sdfsd8 sdfs 56 21sfs 20 5\u001b[39m\u001b[39m\"\u001b[39m\n\u001b[1;32m----> <a href='vscode-notebook-cell:/d%3A/Coding/Python/APP/Logic%20Programming/contain%20001/String_sorting.ipynb#W0sZmlsZQ%3D%3D?line=1'>2</a>\u001b[0m \u001b[39mprint\u001b[39m(\u001b[39m\"\u001b[39m\u001b[39mOriginal string: \u001b[39m\u001b[39m\"\u001b[39m,str1)\n\u001b[0;32m      <a href='vscode-notebook-cell:/d%3A/Coding/Python/APP/Logic%20Programming/contain%20001/String_sorting.ipynb#W0sZmlsZQ%3D%3D?line=2'>3</a>\u001b[0m str_num\u001b[39m=\u001b[39m[i \u001b[39mfor\u001b[39;00m i \u001b[39min\u001b[39;00m str1\u001b[39m.\u001b[39msplit(\u001b[39m'\u001b[39m\u001b[39m \u001b[39m\u001b[39m'\u001b[39m)]\n\u001b[0;32m      <a href='vscode-notebook-cell:/d%3A/Coding/Python/APP/Logic%20Programming/contain%20001/String_sorting.ipynb#W0sZmlsZQ%3D%3D?line=3'>4</a>\u001b[0m lenght\u001b[39m=\u001b[39m\u001b[39mlen\u001b[39m(str_num)\n",
      "\u001b[1;31mNameError\u001b[0m: name 'str1' is not defined"
     ]
    }
   ],
   "source": [
    "str1 = \"sdf 23 safs8 5 sdfsd8 sdfs 56 21sfs 20 5\"\n",
    "print(\"Original string: \",str1)\n",
    "str_num=[i for i in str1.split(' ')]\n",
    "lenght=len(str_num)\n",
    "numbers=sorted([int(x) for x in str_num if x.isdigit()])\n",
    "print('Numbers in sorted form:')\n",
    "for i in ((filter(lambda x:x>lenght,numbers))):\n",
    " print(i,end=' ')"
   ]
  }
 ],
 "metadata": {
  "kernelspec": {
   "display_name": "Python 3.10.4 64-bit",
   "language": "python",
   "name": "python3"
  },
  "language_info": {
   "codemirror_mode": {
    "name": "ipython",
    "version": 3
   },
   "file_extension": ".py",
   "mimetype": "text/x-python",
   "name": "python",
   "nbconvert_exporter": "python",
   "pygments_lexer": "ipython3",
   "version": "3.10.4"
  },
  "orig_nbformat": 4,
  "vscode": {
   "interpreter": {
    "hash": "b1768f1c9635e7b5b4407e9e1dbdc0aa4ad221b6f6467374c97b56ab6f73cf52"
   }
  }
 },
 "nbformat": 4,
 "nbformat_minor": 2
}
